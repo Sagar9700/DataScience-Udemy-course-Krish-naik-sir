{
  "nbformat": 4,
  "nbformat_minor": 0,
  "metadata": {
    "colab": {
      "provenance": []
    },
    "kernelspec": {
      "name": "python3",
      "display_name": "Python 3"
    },
    "language_info": {
      "name": "python"
    }
  },
  "cells": [
    {
      "cell_type": "markdown",
      "source": [
        "Arithmetic Operators\n",
        "\n",
        "Write a program to take two numbers as input and perform addition, subtraction, multiplication, and division.\n",
        "\n",
        "Write a program to find the remainder when a number is divided by another number.\n",
        "\n",
        "Write a program to swap two numbers using arithmetic operators (without using a third variable).\n",
        "\n",
        "Write a program to calculate the square and cube of a number using the exponent operator (**).\n",
        "\n",
        "Write a program to demonstrate the difference between / and // division operators with examples.\n",
        "\n",
        "Relational / Comparison Operators\n",
        "\n",
        "Write a program to check if a number is greater than 50 and less than 100.\n",
        "\n",
        "Write a program to compare two strings entered by the user and display whether they are equal or not.\n",
        "\n",
        "Write a program to check if three given sides can form a triangle (using comparison operators).\n",
        "\n",
        "Logical Operators\n",
        "\n",
        "Write a program to check if a number is divisible by both 5 and 11 using logical operators.\n",
        "\n",
        "Write a program to check whether a character entered by the user is a vowel and lies between a and z.\n",
        "\n",
        "Write a program to check if a number is even or divisible by 3.\n",
        "\n",
        "Assignment Operators\n",
        "\n",
        "Write a program to demonstrate +=, -=, *=, /=, //=, and %= operators with examples.\n",
        "\n",
        "Write a program that doubles a number until it becomes greater than 100 using *= operator.\n",
        "\n",
        "Write a program where you keep subtracting 5 from a number until it becomes less than 20 using -= operator.\n",
        "\n",
        "Bitwise Operators\n",
        "\n",
        "Write a program to check if a number is odd or even using bitwise &.\n",
        "\n",
        "Write a program to shift a number left by 2 bits and right by 2 bits and print the results.\n",
        "\n",
        "Write a program to count how many set bits (1s) are in the binary representation of a number using bitwise operators.\n",
        "\n",
        "Write a program to swap two numbers using bitwise XOR (^) operator.\n",
        "\n",
        "Identity & Membership Operators\n",
        "\n",
        "Write a program to check if two lists with the same elements are equal (==) and also check if they are identical (is).\n",
        "\n",
        "Write a program to check whether a given word is present inside a sentence using in operator."
      ],
      "metadata": {
        "id": "gJ1SAmcsFUA-"
      }
    },
    {
      "cell_type": "markdown",
      "source": [
        "#Arithmetic Operators\n",
        "\n",
        "Write a program to take two numbers as input and perform addition, subtraction, multiplication, and division.\n",
        "\n",
        "Write a program to find the remainder when a number is divided by another number.\n",
        "\n",
        "Write a program to swap two numbers using arithmetic operators (without using a third variable).\n",
        "\n",
        "Write a program to calculate the square and cube of a number using the exponent operator (**).\n",
        "\n",
        "Write a program to demonstrate the difference between / and // division operators with examples."
      ],
      "metadata": {
        "id": "5ZnhDKeFFX6w"
      }
    },
    {
      "cell_type": "markdown",
      "source": [
        "##Write a program to take two numbers as input and perform addition, subtraction, multiplication, and division."
      ],
      "metadata": {
        "id": "rJIRCV24FkV7"
      }
    },
    {
      "cell_type": "code",
      "execution_count": null,
      "metadata": {
        "colab": {
          "base_uri": "https://localhost:8080/"
        },
        "id": "8-YEBO-qE9h8",
        "outputId": "29a129f8-748c-4cf4-9b61-f416dabbbbb9"
      },
      "outputs": [
        {
          "output_type": "stream",
          "name": "stdout",
          "text": [
            "\n",
            " Enter First number : 5\n",
            "\n",
            " Enter second number : 2\n",
            "\n",
            " addition of number :  7\n",
            "\n",
            " Subract :  3\n",
            "\n",
            " Multiplication of two numbers :  10\n",
            "\n",
            " Division :  2.5\n"
          ]
        }
      ],
      "source": [
        "n1=int(input(\"\\n Enter First number : \"))\n",
        "n2=int(input(\"\\n Enter second number : \"))\n",
        "\n",
        "add=n1+n2\n",
        "print(\"\\n addition of number : \", add)\n",
        "\n",
        "if n1>n2:\n",
        "    sub=n1-n2\n",
        "else:\n",
        "    sub=n2-n1\n",
        "print(\"\\n Subract : \",sub)\n",
        "\n",
        "mul=n1*n2\n",
        "print(\"\\n Multiplication of two numbers : \", mul)\n",
        "\n",
        "if n1 or n2 !=0:\n",
        "    div=n1/n2\n",
        "\n",
        "print(\"\\n Division : \",div)"
      ]
    },
    {
      "cell_type": "markdown",
      "source": [
        "##Write a program to find the remainder when a number is divided by another number."
      ],
      "metadata": {
        "id": "cE1HzdgiFpX9"
      }
    },
    {
      "cell_type": "code",
      "source": [
        "n1=int(input(\"\\n Enter First Number : \" ))\n",
        "n2=int(input(\"\\n Enter Second Number : \"))\n",
        "\n",
        "if n1>n2:\n",
        "  r=n1%n2\n",
        "else:\n",
        "  r=n2%n1\n",
        "print(\"\\n Remainder : \",r)"
      ],
      "metadata": {
        "colab": {
          "base_uri": "https://localhost:8080/"
        },
        "id": "OJ5-mFl1Fqe9",
        "outputId": "c80a140c-8153-44d9-d396-78fa6ef5d2ff"
      },
      "execution_count": null,
      "outputs": [
        {
          "output_type": "stream",
          "name": "stdout",
          "text": [
            "\n",
            " Enter First Number : 5\n",
            "\n",
            " Enter Second Number : 2\n",
            "\n",
            " Remainder :  1\n"
          ]
        }
      ]
    },
    {
      "cell_type": "markdown",
      "source": [
        "##Write a program to swap two numbers using arithmetic operators (without using a third variable)."
      ],
      "metadata": {
        "id": "jYVKR2kFGLQV"
      }
    },
    {
      "cell_type": "code",
      "source": [
        "a=int(input(\"\\n Enter First Number : \"))\n",
        "b=int(input(\"\\n Enter Second Number : \"))\n",
        "c=a+b\n",
        "a=c-a\n",
        "b=c-b\n",
        "print(\"\\n After Swaping First Number : \",a)\n",
        "print(\"\\n After Swaping Second Number : \",b)"
      ],
      "metadata": {
        "colab": {
          "base_uri": "https://localhost:8080/"
        },
        "id": "-tGNnKvJKVzV",
        "outputId": "38079db0-b083-4c99-a64f-f28af48316c1"
      },
      "execution_count": null,
      "outputs": [
        {
          "output_type": "stream",
          "name": "stdout",
          "text": [
            "\n",
            " Enter First Number : 1\n",
            "\n",
            " Enter Second Number : 2\n",
            "\n",
            " After Swaping First Number :  2\n",
            "\n",
            " After Swaping Second Number :  1\n"
          ]
        }
      ]
    },
    {
      "cell_type": "markdown",
      "source": [
        "##Write a program to calculate the square and cube of a number using the exponent operator (**)."
      ],
      "metadata": {
        "id": "DpPTeFUMJzfI"
      }
    },
    {
      "cell_type": "code",
      "source": [
        "n=int(input(\"\\n Enter the number : \"))\n",
        "sq=n**2\n",
        "cube=n**3\n",
        "print(\"\\n Square : \",sq)\n",
        "print(\"\\n Cube : \",cube)"
      ],
      "metadata": {
        "colab": {
          "base_uri": "https://localhost:8080/"
        },
        "id": "Xe3CoBVoGrtn",
        "outputId": "55a9d7ad-7d2f-413e-865d-fe1352e709fd"
      },
      "execution_count": null,
      "outputs": [
        {
          "output_type": "stream",
          "name": "stdout",
          "text": [
            "\n",
            " Enter the number : 3\n",
            "\n",
            " Square :  9\n",
            "\n",
            " Cube :  27\n"
          ]
        }
      ]
    },
    {
      "cell_type": "markdown",
      "source": [
        "##Write a program to demonstrate the difference between / and // division operators with examples."
      ],
      "metadata": {
        "id": "5454LgohLVWS"
      }
    },
    {
      "cell_type": "code",
      "source": [
        "n=int(input(\"\\n Enter the number : \"))\n",
        "a=n/2\n",
        "b=n//2\n",
        "print(\"\\n Division : \",a)\n",
        "print(\"\\n Floor Division : \",b)"
      ],
      "metadata": {
        "colab": {
          "base_uri": "https://localhost:8080/"
        },
        "id": "-ToFGw_JLXUH",
        "outputId": "57dd6d36-ce86-4d74-e676-1525f677b94d"
      },
      "execution_count": null,
      "outputs": [
        {
          "output_type": "stream",
          "name": "stdout",
          "text": [
            "\n",
            " Enter the number : 3\n",
            "\n",
            " Division :  1.5\n",
            "\n",
            " Floor Division :  1\n"
          ]
        }
      ]
    },
    {
      "cell_type": "markdown",
      "source": [],
      "metadata": {
        "id": "TXjySoU7JoyT"
      }
    },
    {
      "cell_type": "markdown",
      "source": [
        "#Relational / Comparison Operators"
      ],
      "metadata": {
        "id": "Q-p8IAIyPOcM"
      }
    },
    {
      "cell_type": "markdown",
      "source": [
        "##Write a program to check if a number is greater than 50 and less than 100."
      ],
      "metadata": {
        "id": "_KY8Qw_fPaM0"
      }
    },
    {
      "cell_type": "code",
      "source": [
        "n=int(input(\"\\n Enter the number : \"))\n",
        "if n >50:\n",
        "  print(\"\\n Greater than 50 \")\n",
        "else:\n",
        "  print(\"\\n Less than 100\")"
      ],
      "metadata": {
        "colab": {
          "base_uri": "https://localhost:8080/"
        },
        "id": "7VyGRM-zPPIH",
        "outputId": "a9e91e9c-628e-446b-832d-aa35bed04d6b"
      },
      "execution_count": 2,
      "outputs": [
        {
          "output_type": "stream",
          "name": "stdout",
          "text": [
            "\n",
            " Enter the number : 30\n",
            "\n",
            " Less than 100\n"
          ]
        }
      ]
    },
    {
      "cell_type": "markdown",
      "source": [
        "##Write a program to compare two strings entered by the user and display whether they are equal or not."
      ],
      "metadata": {
        "id": "JKJnjKnjPzhs"
      }
    },
    {
      "cell_type": "code",
      "source": [
        "s1=input(\"\\n Enter the first string :\")\n",
        "s2=input(\"\\n Enter the Second String :\")\n",
        "if s1==s2:\n",
        "  print(\"\\n Both Strings are Equal \")\n",
        "else:\n",
        "  print(\"\\n Strings are not Equal \")"
      ],
      "metadata": {
        "colab": {
          "base_uri": "https://localhost:8080/"
        },
        "id": "hvyBLoKFPUqp",
        "outputId": "ad7264c6-301e-42e3-cbf8-03661d9decd2"
      },
      "execution_count": 3,
      "outputs": [
        {
          "output_type": "stream",
          "name": "stdout",
          "text": [
            "\n",
            " Enter the first string :sagar\n",
            "\n",
            " Enter the Second String :sagar\n",
            "\n",
            " Both Strings are Equal \n"
          ]
        }
      ]
    },
    {
      "cell_type": "code",
      "source": [],
      "metadata": {
        "id": "WUgl29mXQHNT"
      },
      "execution_count": null,
      "outputs": []
    },
    {
      "cell_type": "markdown",
      "source": [
        "##Write a program to check if three given sides can form a triangle (using comparison operators)."
      ],
      "metadata": {
        "id": "Bxe3jdPfQOqh"
      }
    },
    {
      "cell_type": "code",
      "source": [
        "a=float(input(\"\\n Enter the First Side :\"))\n",
        "b=float(input(\"\\n Enter the Second Side :\"))\n",
        "c=float(input(\"\\n Enter the Third Side :\"))\n",
        "\n",
        "if (a+b >c) and (a+c >b) and (b+c >a):\n",
        "  print(\"\\n Triangle can be formed \")\n",
        "else:\n",
        "  print(\"\\n Triangle can't be formed \")"
      ],
      "metadata": {
        "colab": {
          "base_uri": "https://localhost:8080/"
        },
        "id": "LheXmWbQQPXR",
        "outputId": "4df3bed3-6775-47eb-fac7-d5729e303f54"
      },
      "execution_count": 5,
      "outputs": [
        {
          "output_type": "stream",
          "name": "stdout",
          "text": [
            "\n",
            " Enter the First Side :2\n",
            "\n",
            " Enter the Second Side :2\n",
            "\n",
            " Enter the Third Side :3\n",
            "\n",
            " Triangle can be formed \n"
          ]
        }
      ]
    },
    {
      "cell_type": "markdown",
      "source": [
        "#Logical Operators\n",
        "\n"
      ],
      "metadata": {
        "id": "YwtmNpX2Q5rE"
      }
    },
    {
      "cell_type": "markdown",
      "source": [
        "##Write a program to check if a number is divisible by both 5 and 11 using logical operators."
      ],
      "metadata": {
        "id": "eoFgUuwuQ9dX"
      }
    },
    {
      "cell_type": "code",
      "source": [
        "23\n",
        "n=int(input(\"\\n Enter the number : \"))\n",
        "if (n%5==0) and (n%11==0):\n",
        "  print(\"\\n Number is divisible by 5 and 11 \")\n",
        "else:\n",
        "  print(\"\\n Number is not divisible by 5 and 11 \")"
      ],
      "metadata": {
        "colab": {
          "base_uri": "https://localhost:8080/"
        },
        "id": "DtliIqC-QvKA",
        "outputId": "af1c760d-e26b-4ae4-9d0d-57985faedbf4"
      },
      "execution_count": 6,
      "outputs": [
        {
          "output_type": "stream",
          "name": "stdout",
          "text": [
            "\n",
            " Enter the number : 5\n",
            "\n",
            " Number is not divisible by 5 and 11 \n"
          ]
        }
      ]
    },
    {
      "cell_type": "markdown",
      "source": [
        "##Write a program to check whether a character entered by the user is a vowel and lies between a and z."
      ],
      "metadata": {
        "id": "H5P-FsTVRfoo"
      }
    },
    {
      "cell_type": "code",
      "source": [
        "c=input(\"\\n Enter the Character : \")\n",
        "if c=='a' or c=='e' or c=='i' or c=='i' or c=='o' or c=='u':\n",
        "  print(\"\\n Character is a vowel \")\n",
        "else:\n",
        "  print(\"\\n Character is not a vowel \")\n",
        "\n",
        "if c >='a' and c<='z':\n",
        "  print(\"\\n Character lies between a and z \")\n",
        "else:\n",
        "  print(\"\\n Character doesn't lies between a and z \")"
      ],
      "metadata": {
        "colab": {
          "base_uri": "https://localhost:8080/"
        },
        "id": "KxpSPLxYRY6U",
        "outputId": "9a748030-9fe3-46d1-9e77-97b8787e97c0"
      },
      "execution_count": 9,
      "outputs": [
        {
          "output_type": "stream",
          "name": "stdout",
          "text": [
            "\n",
            " Enter the Character : w\n",
            "\n",
            " Character is not a vowel \n",
            "\n",
            " Character lies between a and z \n"
          ]
        }
      ]
    },
    {
      "cell_type": "code",
      "source": [],
      "metadata": {
        "id": "St_xMhhxR5Zm"
      },
      "execution_count": 8,
      "outputs": []
    },
    {
      "cell_type": "markdown",
      "source": [
        "##Write a program to check if a number is even or divisible by 3."
      ],
      "metadata": {
        "id": "_geVLGiySLfr"
      }
    },
    {
      "cell_type": "code",
      "source": [
        "n=int(input(\"\\n Enter the number : \"))\n",
        "if n%3==0:\n",
        "  print(\"\\n Divisible by 3 \")\n",
        "else:\n",
        "  print(\"\\n Not Divisible by 3 \")"
      ],
      "metadata": {
        "colab": {
          "base_uri": "https://localhost:8080/"
        },
        "id": "JxIWbu-CSMtF",
        "outputId": "2af280d3-193a-4979-c1e3-f12f7a180286"
      },
      "execution_count": 10,
      "outputs": [
        {
          "output_type": "stream",
          "name": "stdout",
          "text": [
            "\n",
            " Enter the number : 29\n",
            "\n",
            " Not Divisible by 3 \n"
          ]
        }
      ]
    },
    {
      "cell_type": "markdown",
      "source": [
        "#Assignment Operators\n",
        "\n"
      ],
      "metadata": {
        "id": "Hq-GXUEcSoK1"
      }
    },
    {
      "cell_type": "markdown",
      "source": [
        "##Write a program to demonstrate +=, -=, *=, /=, //=, and %= operators with examples."
      ],
      "metadata": {
        "id": "NZ9Lb-0OSr7C"
      }
    },
    {
      "cell_type": "code",
      "source": [
        "a = int(input(\"\\n enter the number : \"))\n",
        "b = int(input(\"\\n enter the second number \"))\n",
        "\n",
        "x = a\n",
        "x += x\n",
        "print(\"+=\", x)\n",
        "\n",
        "y = b\n",
        "y -= y\n",
        "print(\"-=\", y)\n",
        "\n",
        "x = a\n",
        "x *= a\n",
        "print(\"*=\", x)\n",
        "\n",
        "y = b\n",
        "y /= b\n",
        "print(\"/=\", y)\n",
        "\n",
        "x = a\n",
        "x //= a\n",
        "print(\"//=\", x)\n",
        "\n",
        "y = b\n",
        "y %= b\n",
        "print(\"%=\", y)"
      ],
      "metadata": {
        "colab": {
          "base_uri": "https://localhost:8080/"
        },
        "id": "flgGmBWZScZP",
        "outputId": "706fde28-f1c4-4b9e-ba39-e003e8c2281b"
      },
      "execution_count": 13,
      "outputs": [
        {
          "output_type": "stream",
          "name": "stdout",
          "text": [
            "\n",
            " enter the number : 6\n",
            "\n",
            " enter the second number 4\n",
            "+= 12\n",
            "-= 0\n",
            "*= 36\n",
            "/= 1.0\n",
            "//= 1\n",
            "%= 0\n"
          ]
        }
      ]
    },
    {
      "cell_type": "code",
      "source": [],
      "metadata": {
        "id": "jiVkXKHGTbM0"
      },
      "execution_count": null,
      "outputs": []
    },
    {
      "cell_type": "markdown",
      "source": [
        "##Write a program that doubles a number until it becomes greater than 100 using *= operator."
      ],
      "metadata": {
        "id": "e6KmjQf_T3yH"
      }
    },
    {
      "cell_type": "code",
      "source": [
        "n=int(input(\"\\n Enter the Number : \"))\n",
        "while n<=100:\n",
        "  n*=2\n",
        "print(\"\\n N :\" ,n)"
      ],
      "metadata": {
        "colab": {
          "base_uri": "https://localhost:8080/"
        },
        "id": "1CeLeO-ST4ds",
        "outputId": "ce870711-028f-4dd1-baba-2f5d10d60192"
      },
      "execution_count": 15,
      "outputs": [
        {
          "output_type": "stream",
          "name": "stdout",
          "text": [
            "\n",
            " Enter the Number : 2\n",
            "\n",
            " N : 128\n"
          ]
        }
      ]
    },
    {
      "cell_type": "markdown",
      "source": [
        "##Write a program where you keep subtracting 5 from a number until it becomes less than 20 using -= operator."
      ],
      "metadata": {
        "id": "l_PSgXLbUlZt"
      }
    },
    {
      "cell_type": "code",
      "source": [
        "n=int(input(\"\\n enter the number : \"))\n",
        "while(n>20):\n",
        "  n-=5\n",
        "  print(\"\\n current number :\" ,n )\n",
        "print(\"\\n final Number \",n)"
      ],
      "metadata": {
        "colab": {
          "base_uri": "https://localhost:8080/"
        },
        "id": "W0QDqXxkUYsc",
        "outputId": "880a1e57-a081-4664-fc8b-6155816fd6ca"
      },
      "execution_count": 20,
      "outputs": [
        {
          "output_type": "stream",
          "name": "stdout",
          "text": [
            "\n",
            " enter the number : 45\n",
            "\n",
            " current number : 40\n",
            "\n",
            " current number : 35\n",
            "\n",
            " current number : 30\n",
            "\n",
            " current number : 25\n",
            "\n",
            " current number : 20\n",
            "\n",
            " final Number  20\n"
          ]
        }
      ]
    },
    {
      "cell_type": "code",
      "source": [],
      "metadata": {
        "id": "SGA-JeLxU1SQ"
      },
      "execution_count": null,
      "outputs": []
    },
    {
      "cell_type": "markdown",
      "source": [
        "#Bitwise Operators\n",
        "\n"
      ],
      "metadata": {
        "id": "O_sD51UZV-7x"
      }
    },
    {
      "cell_type": "markdown",
      "source": [
        "##Write a program to check if a number is odd or even using bitwise &."
      ],
      "metadata": {
        "id": "b_xGZzx-YQL_"
      }
    },
    {
      "cell_type": "code",
      "source": [
        "# Input a number\n",
        "num = int(input(\"Enter a number: \"))\n",
        "\n",
        "# Check odd or even using bitwise &\n",
        "if num & 1:\n",
        "    print(f\"{num} is odd\")\n",
        "else:\n",
        "    print(f\"{num} is even\")\n"
      ],
      "metadata": {
        "colab": {
          "base_uri": "https://localhost:8080/"
        },
        "id": "KDhQ4AVQWAgm",
        "outputId": "91ae6993-a07d-4c78-9fce-9ec296e24fc8"
      },
      "execution_count": 22,
      "outputs": [
        {
          "output_type": "stream",
          "name": "stdout",
          "text": [
            "Enter a number: 4\n",
            "4 is even\n"
          ]
        }
      ]
    },
    {
      "cell_type": "markdown",
      "source": [
        "##"
      ],
      "metadata": {
        "id": "gddjEm-aYux3"
      }
    },
    {
      "cell_type": "markdown",
      "source": [
        "##Write a program to shift a number left by 2 bits and right by 2 bits and print the results."
      ],
      "metadata": {
        "id": "szJB8D4cYxvr"
      }
    },
    {
      "cell_type": "code",
      "source": [
        "# Input a number\n",
        "num = int(input(\"Enter a number: \"))\n",
        "\n",
        "# Check odd or even using bitwise &\n",
        "\n",
        "l=num << 2\n",
        "print(f\"{l} Left \")\n",
        "l2=num>> 2\n",
        "print(f\"{l2} right\")"
      ],
      "metadata": {
        "colab": {
          "base_uri": "https://localhost:8080/"
        },
        "id": "rKOCVck3YOUE",
        "outputId": "c3b3108e-0ec5-4d72-e44d-52dc098de2b0"
      },
      "execution_count": 27,
      "outputs": [
        {
          "output_type": "stream",
          "name": "stdout",
          "text": [
            "Enter a number: 4\n",
            "16 Left \n",
            "1 right\n"
          ]
        }
      ]
    },
    {
      "cell_type": "markdown",
      "source": [
        "##Write a program to swap two numbers using bitwise XOR (^) operator."
      ],
      "metadata": {
        "id": "Jsv1sqoJZ33Q"
      }
    },
    {
      "cell_type": "code",
      "source": [
        "# Input two numbers\n",
        "a = int(input(\"Enter first number: \"))\n",
        "b = int(input(\"Enter second number: \"))\n",
        "\n",
        "print(f\"Before swapping: a = {a}, b = {b}\")\n",
        "\n",
        "# Swap using XOR\n",
        "a = a ^ b\n",
        "b = a ^ b\n",
        "a = a ^ b\n",
        "\n",
        "print(f\"After swapping: a = {a}, b = {b}\")\n"
      ],
      "metadata": {
        "colab": {
          "base_uri": "https://localhost:8080/"
        },
        "id": "fWtcw23wZBZH",
        "outputId": "6fd630cf-7940-4a40-b33f-758e271349c1"
      },
      "execution_count": 28,
      "outputs": [
        {
          "output_type": "stream",
          "name": "stdout",
          "text": [
            "Enter first number: 2\n",
            "Enter second number: 3\n",
            "Before swapping: a = 2, b = 3\n",
            "After swapping: a = 3, b = 2\n"
          ]
        }
      ]
    },
    {
      "cell_type": "code",
      "source": [],
      "metadata": {
        "id": "_SbWRcRTaC4u"
      },
      "execution_count": null,
      "outputs": []
    },
    {
      "cell_type": "markdown",
      "source": [
        "#Identity & Membership Operators\n",
        "\n",
        "Write a program to check if two lists with the same elements are equal (==) and also check if they are identical (is).\n",
        "\n",
        "Write a program to check whether a given word is present inside a sentence using in operator."
      ],
      "metadata": {
        "id": "f6EF0vh9aK1Q"
      }
    },
    {
      "cell_type": "markdown",
      "source": [
        "##Write a program to check if two lists with the same elements are equal (==) and also check if they are identical (is)"
      ],
      "metadata": {
        "id": "BSHsVy5gaRYD"
      }
    },
    {
      "cell_type": "markdown",
      "source": [
        "is Compares memeory address"
      ],
      "metadata": {
        "id": "hY1NndvtarBG"
      }
    },
    {
      "cell_type": "code",
      "source": [
        "# Define two lists\n",
        "list1 = [1, 2, 3]\n",
        "list2 = [1, 2, 3]\n",
        "\n",
        "# Check equality\n",
        "print(\"list1 == list2:\", list1 == list2)  # True, because contents are same\n",
        "\n",
        "# Check identity\n",
        "print(\"list1 is list2:\", list1 is list2)  # False, because they are different objects\n",
        "\n",
        "# Optional: make list3 point to list1\n",
        "list3 = list1\n",
        "print(\"list1 is list3:\", list1 is list3)  # True, same object\n"
      ],
      "metadata": {
        "colab": {
          "base_uri": "https://localhost:8080/"
        },
        "id": "2oKFza4oaMDS",
        "outputId": "d29c0c95-f7c1-4c5c-bc65-1426a9e27774"
      },
      "execution_count": 30,
      "outputs": [
        {
          "output_type": "stream",
          "name": "stdout",
          "text": [
            "list1 == list2: True\n",
            "list1 is list2: False\n",
            "list1 is list3: True\n"
          ]
        }
      ]
    },
    {
      "cell_type": "markdown",
      "source": [
        "##Write a program to check whether a given word is present inside a sentence using in operator."
      ],
      "metadata": {
        "id": "C7U2td7WawZ_"
      }
    },
    {
      "cell_type": "code",
      "source": [
        "n=input(\"\\n Enter the Sentence : \")\n",
        "w=input(\"\\n enter the word\")\n",
        "if w in n:\n",
        "  print(\"\\n present \")\n",
        "else:\n",
        "  print(\"\\n not present\")"
      ],
      "metadata": {
        "colab": {
          "base_uri": "https://localhost:8080/"
        },
        "id": "0cvHfwb4aO7O",
        "outputId": "a526856b-168e-47c6-edbd-2e7d10e6a234"
      },
      "execution_count": 31,
      "outputs": [
        {
          "output_type": "stream",
          "name": "stdout",
          "text": [
            "\n",
            " Enter the Sentence : sagar is a good boy\n",
            "\n",
            " enter the wordgood\n",
            "\n",
            " present \n"
          ]
        }
      ]
    },
    {
      "cell_type": "code",
      "source": [],
      "metadata": {
        "id": "ErYEAUNQbEvx"
      },
      "execution_count": null,
      "outputs": []
    }
  ]
}